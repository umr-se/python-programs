{
 "cells": [
  {
   "cell_type": "code",
   "execution_count": 2,
   "id": "111a0f71",
   "metadata": {},
   "outputs": [
    {
     "name": "stdout",
     "output_type": "stream",
     "text": [
      "UMER\n",
      "3\n",
      "Zain\n",
      "welcome to python\n",
      "Hello\n"
     ]
    }
   ],
   "source": [
    "print(\"UMER\")\n",
    "x=5\n",
    "y=2\n",
    "z=x-y\n",
    "print(z)\n",
    "print(\"Zain\")\n",
    "print(\"welcome to python\")\n",
    "z=\"Hello\"\n",
    "print(z)"
   ]
  },
  {
   "cell_type": "code",
   "execution_count": null,
   "id": "c578144f",
   "metadata": {},
   "outputs": [],
   "source": []
  }
 ],
 "metadata": {
  "kernelspec": {
   "display_name": "Python 3 (ipykernel)",
   "language": "python",
   "name": "python3"
  },
  "language_info": {
   "codemirror_mode": {
    "name": "ipython",
    "version": 3
   },
   "file_extension": ".py",
   "mimetype": "text/x-python",
   "name": "python",
   "nbconvert_exporter": "python",
   "pygments_lexer": "ipython3",
   "version": "3.11.2"
  }
 },
 "nbformat": 4,
 "nbformat_minor": 5
}
