{
 "cells": [
  {
   "cell_type": "code",
   "execution_count": null,
   "id": "1ca6a929",
   "metadata": {},
   "outputs": [],
   "source": [
    "import cv2\n",
    "\n",
    "def canny(image, sigma=0.33):\n",
    "    # Convert the image to grayscale\n",
    "    gray = cv2.cvtColor(image, cv2.COLOR_BGR2GRAY)\n",
    "\n",
    "    # Compute the median of the pixel intensities in the grayscale image\n",
    "    median = cv2.medianBlur(gray, 5)\n",
    "\n",
    "    # Compute the standard deviation of the pixel intensities in the grayscale image\n",
    "    sigma = sigma if sigma > 0 else 0.01\n",
    "    blurred = cv2.GaussianBlur(median, (5, 5), sigma)\n",
    "\n",
    "    # Use the Canny edge detector to detect edges in the blurred grayscale image\n",
    "    edges = cv2.Canny(blurred, 30, 150)\n",
    "\n",
    "    return edges\n",
    "\n",
    "# Load an image\n",
    "image = cv2.imread(\"image1.jpg\")\n",
    "\n",
    "# Apply the Canny edge detection algorithm to the image\n",
    "edges = canny(image)\n",
    "\n",
    "# Display the original image and the edges side by side\n",
    "cv2.imshow(\"Original Image\", image)\n",
    "cv2.imshow(\"Edges\", edges)\n",
    "cv2.waitKey(0)\n",
    "cv2.destroyAllWindows()"
   ]
  },
  {
   "cell_type": "code",
   "execution_count": null,
   "id": "819fb447",
   "metadata": {},
   "outputs": [],
   "source": []
  }
 ],
 "metadata": {
  "kernelspec": {
   "display_name": "Python 3 (ipykernel)",
   "language": "python",
   "name": "python3"
  },
  "language_info": {
   "codemirror_mode": {
    "name": "ipython",
    "version": 3
   },
   "file_extension": ".py",
   "mimetype": "text/x-python",
   "name": "python",
   "nbconvert_exporter": "python",
   "pygments_lexer": "ipython3",
   "version": "3.11.2"
  }
 },
 "nbformat": 4,
 "nbformat_minor": 5
}
