{
 "cells": [
  {
   "cell_type": "code",
   "execution_count": 1,
   "id": "bb8dbee3",
   "metadata": {},
   "outputs": [],
   "source": [
    "import cv2\n",
    "\n",
    "# Load the image\n",
    "img = cv2.imread('image.jpg', 0)\n",
    "\n",
    "# Apply Gaussian blur to reduce noise\n",
    "img_blur = cv2.GaussianBlur(img, (5,5), 0)\n",
    "\n",
    "# Apply Canny edge detection algorithm\n",
    "edges = cv2.Canny(img_blur, 100, 200)\n",
    "\n",
    "# Display the result\n",
    "cv2.imshow('Canny Edge Detection', edges)\n",
    "cv2.waitKey(0)\n",
    "cv2.destroyAllWindows()\n"
   ]
  },
  {
   "cell_type": "code",
   "execution_count": null,
   "id": "443ccb50",
   "metadata": {},
   "outputs": [],
   "source": []
  }
 ],
 "metadata": {
  "kernelspec": {
   "display_name": "Python 3 (ipykernel)",
   "language": "python",
   "name": "python3"
  },
  "language_info": {
   "codemirror_mode": {
    "name": "ipython",
    "version": 3
   },
   "file_extension": ".py",
   "mimetype": "text/x-python",
   "name": "python",
   "nbconvert_exporter": "python",
   "pygments_lexer": "ipython3",
   "version": "3.11.2"
  }
 },
 "nbformat": 4,
 "nbformat_minor": 5
}
